{
  "nbformat": 4,
  "nbformat_minor": 0,
  "metadata": {
    "colab": {
      "name": "SMS using Twilio .ipynb",
      "provenance": [],
      "authorship_tag": "ABX9TyMgFPPVuaAPcE6VP02e+amD",
      "include_colab_link": true
    },
    "kernelspec": {
      "name": "python3",
      "display_name": "Python 3"
    },
    "language_info": {
      "name": "python"
    }
  },
  "cells": [
    {
      "cell_type": "markdown",
      "metadata": {
        "id": "view-in-github",
        "colab_type": "text"
      },
      "source": [
        "<a href=\"https://colab.research.google.com/github/darpankhanna/Send-text-messages-on-mobilephone-using-Python/blob/main/SMS_using_Twilio_.ipynb\" target=\"_parent\"><img src=\"https://colab.research.google.com/assets/colab-badge.svg\" alt=\"Open In Colab\"/></a>"
      ]
    },
    {
      "cell_type": "code",
      "execution_count": 1,
      "metadata": {
        "colab": {
          "base_uri": "https://localhost:8080/"
        },
        "id": "DSeLffYHaLfY",
        "outputId": "a7caff7e-6e80-4343-94df-29f4f65d66e3"
      },
      "outputs": [
        {
          "output_type": "stream",
          "name": "stdout",
          "text": [
            "Collecting twilio\n",
            "  Downloading twilio-7.4.0-py2.py3-none-any.whl (1.3 MB)\n",
            "\u001b[?25l\r\u001b[K     |▎                               | 10 kB 27.1 MB/s eta 0:00:01\r\u001b[K     |▌                               | 20 kB 10.9 MB/s eta 0:00:01\r\u001b[K     |▊                               | 30 kB 9.2 MB/s eta 0:00:01\r\u001b[K     |█                               | 40 kB 8.3 MB/s eta 0:00:01\r\u001b[K     |█▎                              | 51 kB 5.0 MB/s eta 0:00:01\r\u001b[K     |█▌                              | 61 kB 5.1 MB/s eta 0:00:01\r\u001b[K     |█▊                              | 71 kB 5.3 MB/s eta 0:00:01\r\u001b[K     |██                              | 81 kB 6.0 MB/s eta 0:00:01\r\u001b[K     |██▏                             | 92 kB 4.7 MB/s eta 0:00:01\r\u001b[K     |██▌                             | 102 kB 5.0 MB/s eta 0:00:01\r\u001b[K     |██▊                             | 112 kB 5.0 MB/s eta 0:00:01\r\u001b[K     |███                             | 122 kB 5.0 MB/s eta 0:00:01\r\u001b[K     |███▏                            | 133 kB 5.0 MB/s eta 0:00:01\r\u001b[K     |███▌                            | 143 kB 5.0 MB/s eta 0:00:01\r\u001b[K     |███▊                            | 153 kB 5.0 MB/s eta 0:00:01\r\u001b[K     |████                            | 163 kB 5.0 MB/s eta 0:00:01\r\u001b[K     |████▏                           | 174 kB 5.0 MB/s eta 0:00:01\r\u001b[K     |████▍                           | 184 kB 5.0 MB/s eta 0:00:01\r\u001b[K     |████▊                           | 194 kB 5.0 MB/s eta 0:00:01\r\u001b[K     |█████                           | 204 kB 5.0 MB/s eta 0:00:01\r\u001b[K     |█████▏                          | 215 kB 5.0 MB/s eta 0:00:01\r\u001b[K     |█████▍                          | 225 kB 5.0 MB/s eta 0:00:01\r\u001b[K     |█████▊                          | 235 kB 5.0 MB/s eta 0:00:01\r\u001b[K     |██████                          | 245 kB 5.0 MB/s eta 0:00:01\r\u001b[K     |██████▏                         | 256 kB 5.0 MB/s eta 0:00:01\r\u001b[K     |██████▍                         | 266 kB 5.0 MB/s eta 0:00:01\r\u001b[K     |██████▋                         | 276 kB 5.0 MB/s eta 0:00:01\r\u001b[K     |███████                         | 286 kB 5.0 MB/s eta 0:00:01\r\u001b[K     |███████▏                        | 296 kB 5.0 MB/s eta 0:00:01\r\u001b[K     |███████▍                        | 307 kB 5.0 MB/s eta 0:00:01\r\u001b[K     |███████▋                        | 317 kB 5.0 MB/s eta 0:00:01\r\u001b[K     |███████▉                        | 327 kB 5.0 MB/s eta 0:00:01\r\u001b[K     |████████▏                       | 337 kB 5.0 MB/s eta 0:00:01\r\u001b[K     |████████▍                       | 348 kB 5.0 MB/s eta 0:00:01\r\u001b[K     |████████▋                       | 358 kB 5.0 MB/s eta 0:00:01\r\u001b[K     |████████▉                       | 368 kB 5.0 MB/s eta 0:00:01\r\u001b[K     |█████████▏                      | 378 kB 5.0 MB/s eta 0:00:01\r\u001b[K     |█████████▍                      | 389 kB 5.0 MB/s eta 0:00:01\r\u001b[K     |█████████▋                      | 399 kB 5.0 MB/s eta 0:00:01\r\u001b[K     |█████████▉                      | 409 kB 5.0 MB/s eta 0:00:01\r\u001b[K     |██████████                      | 419 kB 5.0 MB/s eta 0:00:01\r\u001b[K     |██████████▍                     | 430 kB 5.0 MB/s eta 0:00:01\r\u001b[K     |██████████▋                     | 440 kB 5.0 MB/s eta 0:00:01\r\u001b[K     |██████████▉                     | 450 kB 5.0 MB/s eta 0:00:01\r\u001b[K     |███████████                     | 460 kB 5.0 MB/s eta 0:00:01\r\u001b[K     |███████████▍                    | 471 kB 5.0 MB/s eta 0:00:01\r\u001b[K     |███████████▋                    | 481 kB 5.0 MB/s eta 0:00:01\r\u001b[K     |███████████▉                    | 491 kB 5.0 MB/s eta 0:00:01\r\u001b[K     |████████████                    | 501 kB 5.0 MB/s eta 0:00:01\r\u001b[K     |████████████▎                   | 512 kB 5.0 MB/s eta 0:00:01\r\u001b[K     |████████████▋                   | 522 kB 5.0 MB/s eta 0:00:01\r\u001b[K     |████████████▉                   | 532 kB 5.0 MB/s eta 0:00:01\r\u001b[K     |█████████████                   | 542 kB 5.0 MB/s eta 0:00:01\r\u001b[K     |█████████████▎                  | 552 kB 5.0 MB/s eta 0:00:01\r\u001b[K     |█████████████▋                  | 563 kB 5.0 MB/s eta 0:00:01\r\u001b[K     |█████████████▉                  | 573 kB 5.0 MB/s eta 0:00:01\r\u001b[K     |██████████████                  | 583 kB 5.0 MB/s eta 0:00:01\r\u001b[K     |██████████████▎                 | 593 kB 5.0 MB/s eta 0:00:01\r\u001b[K     |██████████████▌                 | 604 kB 5.0 MB/s eta 0:00:01\r\u001b[K     |██████████████▉                 | 614 kB 5.0 MB/s eta 0:00:01\r\u001b[K     |███████████████                 | 624 kB 5.0 MB/s eta 0:00:01\r\u001b[K     |███████████████▎                | 634 kB 5.0 MB/s eta 0:00:01\r\u001b[K     |███████████████▌                | 645 kB 5.0 MB/s eta 0:00:01\r\u001b[K     |███████████████▊                | 655 kB 5.0 MB/s eta 0:00:01\r\u001b[K     |████████████████                | 665 kB 5.0 MB/s eta 0:00:01\r\u001b[K     |████████████████▎               | 675 kB 5.0 MB/s eta 0:00:01\r\u001b[K     |████████████████▌               | 686 kB 5.0 MB/s eta 0:00:01\r\u001b[K     |████████████████▊               | 696 kB 5.0 MB/s eta 0:00:01\r\u001b[K     |█████████████████               | 706 kB 5.0 MB/s eta 0:00:01\r\u001b[K     |█████████████████▎              | 716 kB 5.0 MB/s eta 0:00:01\r\u001b[K     |█████████████████▌              | 727 kB 5.0 MB/s eta 0:00:01\r\u001b[K     |█████████████████▊              | 737 kB 5.0 MB/s eta 0:00:01\r\u001b[K     |██████████████████              | 747 kB 5.0 MB/s eta 0:00:01\r\u001b[K     |██████████████████▎             | 757 kB 5.0 MB/s eta 0:00:01\r\u001b[K     |██████████████████▌             | 768 kB 5.0 MB/s eta 0:00:01\r\u001b[K     |██████████████████▊             | 778 kB 5.0 MB/s eta 0:00:01\r\u001b[K     |███████████████████             | 788 kB 5.0 MB/s eta 0:00:01\r\u001b[K     |███████████████████▎            | 798 kB 5.0 MB/s eta 0:00:01\r\u001b[K     |███████████████████▌            | 808 kB 5.0 MB/s eta 0:00:01\r\u001b[K     |███████████████████▊            | 819 kB 5.0 MB/s eta 0:00:01\r\u001b[K     |████████████████████            | 829 kB 5.0 MB/s eta 0:00:01\r\u001b[K     |████████████████████▏           | 839 kB 5.0 MB/s eta 0:00:01\r\u001b[K     |████████████████████▌           | 849 kB 5.0 MB/s eta 0:00:01\r\u001b[K     |████████████████████▊           | 860 kB 5.0 MB/s eta 0:00:01\r\u001b[K     |█████████████████████           | 870 kB 5.0 MB/s eta 0:00:01\r\u001b[K     |█████████████████████▏          | 880 kB 5.0 MB/s eta 0:00:01\r\u001b[K     |█████████████████████▌          | 890 kB 5.0 MB/s eta 0:00:01\r\u001b[K     |█████████████████████▊          | 901 kB 5.0 MB/s eta 0:00:01\r\u001b[K     |██████████████████████          | 911 kB 5.0 MB/s eta 0:00:01\r\u001b[K     |██████████████████████▏         | 921 kB 5.0 MB/s eta 0:00:01\r\u001b[K     |██████████████████████▍         | 931 kB 5.0 MB/s eta 0:00:01\r\u001b[K     |██████████████████████▊         | 942 kB 5.0 MB/s eta 0:00:01\r\u001b[K     |███████████████████████         | 952 kB 5.0 MB/s eta 0:00:01\r\u001b[K     |███████████████████████▏        | 962 kB 5.0 MB/s eta 0:00:01\r\u001b[K     |███████████████████████▍        | 972 kB 5.0 MB/s eta 0:00:01\r\u001b[K     |███████████████████████▋        | 983 kB 5.0 MB/s eta 0:00:01\r\u001b[K     |████████████████████████        | 993 kB 5.0 MB/s eta 0:00:01\r\u001b[K     |████████████████████████▏       | 1.0 MB 5.0 MB/s eta 0:00:01\r\u001b[K     |████████████████████████▍       | 1.0 MB 5.0 MB/s eta 0:00:01\r\u001b[K     |████████████████████████▋       | 1.0 MB 5.0 MB/s eta 0:00:01\r\u001b[K     |█████████████████████████       | 1.0 MB 5.0 MB/s eta 0:00:01\r\u001b[K     |█████████████████████████▏      | 1.0 MB 5.0 MB/s eta 0:00:01\r\u001b[K     |█████████████████████████▍      | 1.1 MB 5.0 MB/s eta 0:00:01\r\u001b[K     |█████████████████████████▋      | 1.1 MB 5.0 MB/s eta 0:00:01\r\u001b[K     |█████████████████████████▉      | 1.1 MB 5.0 MB/s eta 0:00:01\r\u001b[K     |██████████████████████████▏     | 1.1 MB 5.0 MB/s eta 0:00:01\r\u001b[K     |██████████████████████████▍     | 1.1 MB 5.0 MB/s eta 0:00:01\r\u001b[K     |██████████████████████████▋     | 1.1 MB 5.0 MB/s eta 0:00:01\r\u001b[K     |██████████████████████████▉     | 1.1 MB 5.0 MB/s eta 0:00:01\r\u001b[K     |███████████████████████████▏    | 1.1 MB 5.0 MB/s eta 0:00:01\r\u001b[K     |███████████████████████████▍    | 1.1 MB 5.0 MB/s eta 0:00:01\r\u001b[K     |███████████████████████████▋    | 1.1 MB 5.0 MB/s eta 0:00:01\r\u001b[K     |███████████████████████████▉    | 1.2 MB 5.0 MB/s eta 0:00:01\r\u001b[K     |████████████████████████████    | 1.2 MB 5.0 MB/s eta 0:00:01\r\u001b[K     |████████████████████████████▍   | 1.2 MB 5.0 MB/s eta 0:00:01\r\u001b[K     |████████████████████████████▋   | 1.2 MB 5.0 MB/s eta 0:00:01\r\u001b[K     |████████████████████████████▉   | 1.2 MB 5.0 MB/s eta 0:00:01\r\u001b[K     |█████████████████████████████   | 1.2 MB 5.0 MB/s eta 0:00:01\r\u001b[K     |█████████████████████████████▎  | 1.2 MB 5.0 MB/s eta 0:00:01\r\u001b[K     |█████████████████████████████▋  | 1.2 MB 5.0 MB/s eta 0:00:01\r\u001b[K     |█████████████████████████████▉  | 1.2 MB 5.0 MB/s eta 0:00:01\r\u001b[K     |██████████████████████████████  | 1.2 MB 5.0 MB/s eta 0:00:01\r\u001b[K     |██████████████████████████████▎ | 1.3 MB 5.0 MB/s eta 0:00:01\r\u001b[K     |██████████████████████████████▋ | 1.3 MB 5.0 MB/s eta 0:00:01\r\u001b[K     |██████████████████████████████▉ | 1.3 MB 5.0 MB/s eta 0:00:01\r\u001b[K     |███████████████████████████████ | 1.3 MB 5.0 MB/s eta 0:00:01\r\u001b[K     |███████████████████████████████▎| 1.3 MB 5.0 MB/s eta 0:00:01\r\u001b[K     |███████████████████████████████▌| 1.3 MB 5.0 MB/s eta 0:00:01\r\u001b[K     |███████████████████████████████▉| 1.3 MB 5.0 MB/s eta 0:00:01\r\u001b[K     |████████████████████████████████| 1.3 MB 5.0 MB/s \n",
            "\u001b[?25hRequirement already satisfied: pytz in /usr/local/lib/python3.7/dist-packages (from twilio) (2018.9)\n",
            "Collecting PyJWT<3.0.0,>=2.0.0\n",
            "  Downloading PyJWT-2.3.0-py3-none-any.whl (16 kB)\n",
            "Requirement already satisfied: requests>=2.0.0 in /usr/local/lib/python3.7/dist-packages (from twilio) (2.23.0)\n",
            "Requirement already satisfied: urllib3!=1.25.0,!=1.25.1,<1.26,>=1.21.1 in /usr/local/lib/python3.7/dist-packages (from requests>=2.0.0->twilio) (1.24.3)\n",
            "Requirement already satisfied: idna<3,>=2.5 in /usr/local/lib/python3.7/dist-packages (from requests>=2.0.0->twilio) (2.10)\n",
            "Requirement already satisfied: chardet<4,>=3.0.2 in /usr/local/lib/python3.7/dist-packages (from requests>=2.0.0->twilio) (3.0.4)\n",
            "Requirement already satisfied: certifi>=2017.4.17 in /usr/local/lib/python3.7/dist-packages (from requests>=2.0.0->twilio) (2021.10.8)\n",
            "Installing collected packages: PyJWT, twilio\n",
            "Successfully installed PyJWT-2.3.0 twilio-7.4.0\n"
          ]
        }
      ],
      "source": [
        "pip install twilio \n"
      ]
    },
    {
      "cell_type": "code",
      "source": [
        "from twilio.rest import Client"
      ],
      "metadata": {
        "id": "7Xe5nr1Fym8C"
      },
      "execution_count": 2,
      "outputs": []
    },
    {
      "cell_type": "code",
      "source": [
        "#Account Sid and Aut Token from twilio.com/ console \n",
        "account_sid = 'AC88ec92346725ce2926ba04dbf97a2d0e'\n",
        "auth_token = '22c4cd8d35adb5a8c1665097736d1e36'\n",
        "\n",
        "client = Client(account_sid, auth_token)\n",
        "\n",
        "message = client.messages.create(from_='+18632436446',\n",
        "                                 body ='Hey There!!',\n",
        "                                 to = '+918368234468'\n",
        "                                 )\n",
        "\n",
        "print(message.sid)\n"
      ],
      "metadata": {
        "colab": {
          "base_uri": "https://localhost:8080/"
        },
        "id": "dNxEBQS49CUw",
        "outputId": "79e63a8e-d57f-4081-e268-d1c8ee1ea45d"
      },
      "execution_count": 5,
      "outputs": [
        {
          "output_type": "stream",
          "name": "stdout",
          "text": [
            "SM7a5830cfd45247e78c42805fae618712\n"
          ]
        }
      ]
    }
  ]
}